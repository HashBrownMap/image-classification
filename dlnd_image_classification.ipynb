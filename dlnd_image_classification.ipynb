{
 "cells": [
  {
   "cell_type": "markdown",
   "metadata": {
    "collapsed": true
   },
   "source": [
    "# Image Classification\n",
    "In this project, you'll classify images from the [CIFAR-10 dataset](https://www.cs.toronto.edu/~kriz/cifar.html).  The dataset consists of airplanes, dogs, cats, and other objects. You'll preprocess the images, then train a convolutional neural network on all the samples. The images need to be normalized and the labels need to be one-hot encoded.  You'll get to apply what you learned and build a convolutional, max pooling, dropout, and fully connected layers.  At the end, you'll get to see your neural network's predictions on the sample images.\n",
    "## Get the Data\n",
    "Run the following cell to download the [CIFAR-10 dataset for python](https://www.cs.toronto.edu/~kriz/cifar-10-python.tar.gz)."
   ]
  },
  {
   "cell_type": "code",
   "execution_count": 21,
   "metadata": {},
   "outputs": [
    {
     "name": "stdout",
     "output_type": "stream",
     "text": [
      "All files found!\n"
     ]
    }
   ],
   "source": [
    "\"\"\"\n",
    "DON'T MODIFY ANYTHING IN THIS CELL THAT IS BELOW THIS LINE\n",
    "\"\"\"\n",
    "from urllib.request import urlretrieve\n",
    "from os.path import isfile, isdir\n",
    "from tqdm import tqdm\n",
    "import problem_unittests as tests\n",
    "import tarfile\n",
    "\n",
    "cifar10_dataset_folder_path = 'cifar-10-batches-py'\n",
    "\n",
    "# Use Floyd's cifar-10 dataset if present\n",
    "floyd_cifar10_location = '/cifar/cifar-10-python.tar.gz'\n",
    "if isfile(floyd_cifar10_location):\n",
    "    tar_gz_path = floyd_cifar10_location\n",
    "else:\n",
    "    tar_gz_path = 'cifar-10-python.tar.gz'\n",
    "\n",
    "class DLProgress(tqdm):\n",
    "    last_block = 0\n",
    "\n",
    "    def hook(self, block_num=1, block_size=1, total_size=None):\n",
    "        self.total = total_size\n",
    "        self.update((block_num - self.last_block) * block_size)\n",
    "        self.last_block = block_num\n",
    "\n",
    "if not isfile(tar_gz_path):\n",
    "    with DLProgress(unit='B', unit_scale=True, miniters=1, desc='CIFAR-10 Dataset') as pbar:\n",
    "        urlretrieve(\n",
    "            'https://www.cs.toronto.edu/~kriz/cifar-10-python.tar.gz',\n",
    "            tar_gz_path,\n",
    "            pbar.hook)\n",
    "\n",
    "if not isdir(cifar10_dataset_folder_path):\n",
    "    with tarfile.open(tar_gz_path) as tar:\n",
    "        tar.extractall()\n",
    "        tar.close()\n",
    "\n",
    "\n",
    "tests.test_folder_path(cifar10_dataset_folder_path)"
   ]
  },
  {
   "cell_type": "markdown",
   "metadata": {},
   "source": [
    "## Explore the Data\n",
    "The dataset is broken into batches to prevent your machine from running out of memory.  The CIFAR-10 dataset consists of 5 batches, named `data_batch_1`, `data_batch_2`, etc.. Each batch contains the labels and images that are one of the following:\n",
    "* airplane\n",
    "* automobile\n",
    "* bird\n",
    "* cat\n",
    "* deer\n",
    "* dog\n",
    "* frog\n",
    "* horse\n",
    "* ship\n",
    "* truck\n",
    "\n",
    "Understanding a dataset is part of making predictions on the data.  Play around with the code cell below by changing the `batch_id` and `sample_id`. The `batch_id` is the id for a batch (1-5). The `sample_id` is the id for a image and label pair in the batch.\n",
    "\n",
    "Ask yourself \"What are all possible labels?\", \"What is the range of values for the image data?\", \"Are the labels in order or random?\".  Answers to questions like these will help you preprocess the data and end up with better predictions."
   ]
  },
  {
   "cell_type": "code",
   "execution_count": 22,
   "metadata": {},
   "outputs": [
    {
     "name": "stdout",
     "output_type": "stream",
     "text": [
      "\n",
      "Stats of batch 1:\n",
      "Samples: 10000\n",
      "Label Counts: {0: 1005, 1: 974, 2: 1032, 3: 1016, 4: 999, 5: 937, 6: 1030, 7: 1001, 8: 1025, 9: 981}\n",
      "First 20 Labels: [6, 9, 9, 4, 1, 1, 2, 7, 8, 3, 4, 7, 7, 2, 9, 9, 9, 3, 2, 6]\n",
      "\n",
      "Example of Image 5:\n",
      "Image - Min Value: 0 Max Value: 252\n",
      "Image - Shape: (32, 32, 3)\n",
      "Label - Label Id: 1 Name: automobile\n"
     ]
    },
    {
     "data": {
      "image/png": "[encoded data removed]",
      "text/plain": [
       "<matplotlib.figure.Figure at 0x1230a7ac8>"
      ]
     },
     "metadata": {
      "image/png": {
       "height": 250,
       "width": 253
      }
     },
     "output_type": "display_data"
    }
   ],
   "source": [
    "%matplotlib inline\n",
    "%config InlineBackend.figure_format = 'retina'\n",
    "\n",
    "import helper\n",
    "import numpy as np\n",
    "\n",
    "# Explore the dataset\n",
    "batch_id = 1\n",
    "sample_id = 5\n",
    "helper.display_stats(cifar10_dataset_folder_path, batch_id, sample_id)"
   ]
  },
  {
   "cell_type": "markdown",
   "metadata": {},
   "source": [
    "## Implement Preprocess Functions\n",
    "### Normalize\n",
    "In the cell below, implement the `normalize` function to take in image data, `x`, and return it as a normalized Numpy array. The values should be in the range of 0 to 1, inclusive.  The return object should be the same shape as `x`."
   ]
  },
  {
   "cell_type": "code",
   "execution_count": 23,
   "metadata": {},
   "outputs": [
    {
     "name": "stdout",
     "output_type": "stream",
     "text": [
      "Tests Passed\n"
     ]
    }
   ],
   "source": [
    "def normalize(x):\n",
    "    \"\"\"\n",
    "    Normalize a list of sample image data in the range of 0 to 1\n",
    "    : x: List of image data.  The image shape is (32, 32, 3)\n",
    "    : return: Numpy array of normalize data\n",
    "    \"\"\"\n",
    "    # TODO: Implement Function\n",
    "    min_x = np.min(x)\n",
    "    max_x = np.max(x)\n",
    "    norm_x = list()\n",
    "    \n",
    "    for px in x:\n",
    "        norm_x.append((px - min_x)/(max_x - min_x))\n",
    "    \n",
    "    return np.array(norm_x)\n",
    "\n",
    "\n",
    "\"\"\"\n",
    "DON'T MODIFY ANYTHING IN THIS CELL THAT IS BELOW THIS LINE\n",
    "\"\"\"\n",
    "tests.test_normalize(normalize)"
   ]
  },
  {
   "cell_type": "markdown",
   "metadata": {},
   "source": [
    "### One-hot encode\n",
    "Just like the previous code cell, you'll be implementing a function for preprocessing.  This time, you'll implement the `one_hot_encode` function. The input, `x`, are a list of labels.  Implement the function to return the list of labels as One-Hot encoded Numpy array.  The possible values for labels are 0 to 9. The one-hot encoding function should return the same encoding for each value between each call to `one_hot_encode`.  Make sure to save the map of encodings outside the function.\n",
    "\n",
    "Hint: Don't reinvent the wheel."
   ]
  },
  {
   "cell_type": "code",
   "execution_count": 25,
   "metadata": {},
   "outputs": [
    {
     "name": "stdout",
     "output_type": "stream",
     "text": [
      "Tests Passed\n"
     ]
    }
   ],
   "source": [
    "encode_map = np.eye(10)\n",
    "\n",
    "def one_hot_encode(x):\n",
    "    \"\"\"\n",
    "    One hot encode a list of sample labels. Return a one-hot encoded vector for each label.\n",
    "    : x: List of sample Labels\n",
    "    : return: Numpy array of one-hot encoded labels\n",
    "    \"\"\"\n",
    "    # TODO: Implement Function\n",
    "    return np.array([encode_map[i] for i in x])\n",
    "\n",
    "\n",
    "\"\"\"\n",
    "DON'T MODIFY ANYTHING IN THIS CELL THAT IS BELOW THIS LINE\n",
    "\"\"\"\n",
    "tests.test_one_hot_encode(one_hot_encode)"
   ]
  },
  {
   "cell_type": "markdown",
   "metadata": {},
   "source": [
    "### Randomize Data\n",
    "As you saw from exploring the data above, the order of the samples are randomized.  It doesn't hurt to randomize it again, but you don't need to for this dataset."
   ]
  },
  {
   "cell_type": "markdown",
   "metadata": {},
   "source": [
    "## Preprocess all the data and save it\n",
    "Running the code cell below will preprocess all the CIFAR-10 data and save it to file. The code below also uses 10% of the training data for validation."
   ]
  },
  {
   "cell_type": "code",
   "execution_count": 26,
   "metadata": {
    "collapsed": true
   },
   "outputs": [],
   "source": [
    "\"\"\"\n",
    "DON'T MODIFY ANYTHING IN THIS CELL\n",
    "\"\"\"\n",
    "# Preprocess Training, Validation, and Testing Data\n",
    "helper.preprocess_and_save_data(cifar10_dataset_folder_path, normalize, one_hot_encode)"
   ]
  },
  {
   "cell_type": "markdown",
   "metadata": {},
   "source": [
    "# Check Point\n",
    "This is your first checkpoint.  If you ever decide to come back to this notebook or have to restart the notebook, you can start from here.  The preprocessed data has been saved to disk."
   ]
  },
  {
   "cell_type": "code",
   "execution_count": 1,
   "metadata": {
    "collapsed": true
   },
   "outputs": [],
   "source": [
    "\"\"\"\n",
    "DON'T MODIFY ANYTHING IN THIS CELL\n",
    "\"\"\"\n",
    "import pickle\n",
    "import problem_unittests as tests\n",
    "import helper\n",
    "\n",
    "# Load the Preprocessed Validation data\n",
    "valid_features, valid_labels = pickle.load(open('preprocess_validation.p', mode='rb'))"
   ]
  },
  {
   "cell_type": "markdown",
   "metadata": {},
   "source": [
    "## Build the network\n",
    "For the neural network, you'll build each layer into a function.  Most of the code you've seen has been outside of functions. To test your code more thoroughly, we require that you put each layer in a function.  This allows us to give you better feedback and test for simple mistakes using our unittests before you submit your project.\n",
    "\n",
    ">**Note:** If you're finding it hard to dedicate enough time for this course each week, we've provided a small shortcut to this part of the project. In the next couple of problems, you'll have the option to use classes from the [TensorFlow Layers](https://www.tensorflow.org/api_docs/python/tf/layers) or [TensorFlow Layers (contrib)](https://www.tensorflow.org/api_guides/python/contrib.layers) packages to build each layer, except the layers you build in the \"Convolutional and Max Pooling Layer\" section.  TF Layers is similar to Keras's and TFLearn's abstraction to layers, so it's easy to pickup.\n",
    "\n",
    ">However, if you would like to get the most out of this course, try to solve all the problems _without_ using anything from the TF Layers packages. You **can** still use classes from other packages that happen to have the same name as ones you find in TF Layers! For example, instead of using the TF Layers version of the `conv2d` class, [tf.layers.conv2d](https://www.tensorflow.org/api_docs/python/tf/layers/conv2d), you would want to use the TF Neural Network version of `conv2d`, [tf.nn.conv2d](https://www.tensorflow.org/api_docs/python/tf/nn/conv2d). \n",
    "\n",
    "Let's begin!\n",
    "\n",
    "### Input\n",
    "The neural network needs to read the image data, one-hot encoded labels, and dropout keep probability. Implement the following functions\n",
    "* Implement `neural_net_image_input`\n",
    " * Return a [TF Placeholder](https://www.tensorflow.org/api_docs/python/tf/placeholder)\n",
    " * Set the shape using `image_shape` with batch size set to `None`.\n",
    " * Name the TensorFlow placeholder \"x\" using the TensorFlow `name` parameter in the [TF Placeholder](https://www.tensorflow.org/api_docs/python/tf/placeholder).\n",
    "* Implement `neural_net_label_input`\n",
    " * Return a [TF Placeholder](https://www.tensorflow.org/api_docs/python/tf/placeholder)\n",
    " * Set the shape using `n_classes` with batch size set to `None`.\n",
    " * Name the TensorFlow placeholder \"y\" using the TensorFlow `name` parameter in the [TF Placeholder](https://www.tensorflow.org/api_docs/python/tf/placeholder).\n",
    "* Implement `neural_net_keep_prob_input`\n",
    " * Return a [TF Placeholder](https://www.tensorflow.org/api_docs/python/tf/placeholder) for dropout keep probability.\n",
    " * Name the TensorFlow placeholder \"keep_prob\" using the TensorFlow `name` parameter in the [TF Placeholder](https://www.tensorflow.org/api_docs/python/tf/placeholder).\n",
    "\n",
    "These names will be used at the end of the project to load your saved model.\n",
    "\n",
    "Note: `None` for shapes in TensorFlow allow for a dynamic size."
   ]
  },
  {
   "cell_type": "code",
   "execution_count": 2,
   "metadata": {},
   "outputs": [
    {
     "name": "stdout",
     "output_type": "stream",
     "text": [
      "Image Input Tests Passed.\n",
      "Label Input Tests Passed.\n",
      "Keep Prob Tests Passed.\n"
     ]
    }
   ],
   "source": [
    "import tensorflow as tf\n",
    "\n",
    "def neural_net_image_input(image_shape):\n",
    "    \"\"\"\n",
    "    Return a Tensor for a batch of image input\n",
    "    : image_shape: Shape of the images\n",
    "    : return: Tensor for image input.\n",
    "    \"\"\"\n",
    "    # TODO: Implement Function\n",
    "    return tf.placeholder(tf.float32, shape=(None,)+image_shape, name='x')\n",
    "\n",
    "\n",
    "def neural_net_label_input(n_classes):\n",
    "    \"\"\"\n",
    "    Return a Tensor for a batch of label input\n",
    "    : n_classes: Number of classes\n",
    "    : return: Tensor for label input.\n",
    "    \"\"\"\n",
    "    # TODO: Implement Function\n",
    "    return tf.placeholder(tf.float32, shape=(None, n_classes), name='y')\n",
    "\n",
    "\n",
    "def neural_net_keep_prob_input():\n",
    "    \"\"\"\n",
    "    Return a Tensor for keep probability\n",
    "    : return: Tensor for keep probability.\n",
    "    \"\"\"\n",
    "    # TODO: Implement Function\n",
    "    return tf.placeholder(tf.float32, name='keep_prob')\n",
    "\n",
    "\n",
    "\"\"\"\n",
    "DON'T MODIFY ANYTHING IN THIS CELL THAT IS BELOW THIS LINE\n",
    "\"\"\"\n",
    "tf.reset_default_graph()\n",
    "tests.test_nn_image_inputs(neural_net_image_input)\n",
    "tests.test_nn_label_inputs(neural_net_label_input)\n",
    "tests.test_nn_keep_prob_inputs(neural_net_keep_prob_input)"
   ]
  },
  {
   "cell_type": "markdown",
   "metadata": {},
   "source": [
    "### Convolution and Max Pooling Layer\n",
    "Convolution layers have a lot of success with images. For this code cell, you should implement the function `conv2d_maxpool` to apply convolution then max pooling:\n",
    "* Create the weight and bias using `conv_ksize`, `conv_num_outputs` and the shape of `x_tensor`.\n",
    "* Apply a convolution to `x_tensor` using weight and `conv_strides`.\n",
    " * We recommend you use same padding, but you're welcome to use any padding.\n",
    "* Add bias\n",
    "* Add a nonlinear activation to the convolution.\n",
    "* Apply Max Pooling using `pool_ksize` and `pool_strides`.\n",
    " * We recommend you use same padding, but you're welcome to use any padding.\n",
    "\n",
    "**Note:** You **can't** use [TensorFlow Layers](https://www.tensorflow.org/api_docs/python/tf/layers) or [TensorFlow Layers (contrib)](https://www.tensorflow.org/api_guides/python/contrib.layers) for **this** layer, but you can still use TensorFlow's [Neural Network](https://www.tensorflow.org/api_docs/python/tf/nn) package. You may still use the shortcut option for all the **other** layers."
   ]
  },
  {
   "cell_type": "code",
   "execution_count": 3,
   "metadata": {},
   "outputs": [
    {
     "name": "stdout",
     "output_type": "stream",
     "text": [
      "Tests Passed\n"
     ]
    }
   ],
   "source": [
    "def conv2d_maxpool(x_tensor, conv_num_outputs, conv_ksize, conv_strides, pool_ksize, pool_strides):\n",
    "    \"\"\"\n",
    "    Apply convolution then max pooling to x_tensor\n",
    "    :param x_tensor: TensorFlow Tensor\n",
    "    :param conv_num_outputs: Number of outputs for the convolutional layer\n",
    "    :param conv_ksize: kernal size 2-D Tuple for the convolutional layer\n",
    "    :param conv_strides: Stride 2-D Tuple for convolution\n",
    "    :param pool_ksize: kernal size 2-D Tuple for pool\n",
    "    :param pool_strides: Stride 2-D Tuple for pool\n",
    "    : return: A tensor that represents convolution and max pooling of x_tensor\n",
    "    \"\"\"\n",
    "    # TODO: Implement Function\n",
    "    weights = tf.Variable(tf.random_normal([conv_ksize[0],\n",
    "                                            conv_ksize[1],\n",
    "                                            x_tensor.get_shape().as_list()[-1],\n",
    "                                            conv_num_outputs],\n",
    "                                          stddev=0.1))\n",
    "    bias = tf.Variable(tf.zeros(conv_num_outputs, dtype=tf.float32))\n",
    "    conv_layer = tf.nn.conv2d(x_tensor, weights, strides=[1, conv_strides[0], conv_strides[1], 1], padding='SAME')\n",
    "    conv_layer = tf.nn.bias_add(conv_layer, bias)\n",
    "    conv_layer = tf.nn.relu(conv_layer)\n",
    "    conv_layer = tf.nn.max_pool(conv_layer, \n",
    "                                ksize=[1, pool_ksize[0], pool_ksize[1], 1],\n",
    "                               strides=[1, pool_strides[0], pool_strides[1], 1],\n",
    "                               padding='SAME')\n",
    "    \n",
    "    return conv_layer \n",
    "\n",
    "\n",
    "\"\"\"\n",
    "DON'T MODIFY ANYTHING IN THIS CELL THAT IS BELOW THIS LINE\n",
    "\"\"\"\n",
    "tests.test_con_pool(conv2d_maxpool)"
   ]
  },
  {
   "cell_type": "markdown",
   "metadata": {},
   "source": [
    "### Flatten Layer\n",
    "Implement the `flatten` function to change the dimension of `x_tensor` from a 4-D tensor to a 2-D tensor.  The output should be the shape (*Batch Size*, *Flattened Image Size*). Shortcut option: you can use classes from the [TensorFlow Layers](https://www.tensorflow.org/api_docs/python/tf/layers) or [TensorFlow Layers (contrib)](https://www.tensorflow.org/api_guides/python/contrib.layers) packages for this layer. For more of a challenge, only use other TensorFlow packages."
   ]
  },
  {
   "cell_type": "code",
   "execution_count": 4,
   "metadata": {},
   "outputs": [
    {
     "name": "stdout",
     "output_type": "stream",
     "text": [
      "Tests Passed\n"
     ]
    }
   ],
   "source": [
    "def flatten(x_tensor):\n",
    "    \"\"\"\n",
    "    Flatten x_tensor to (Batch Size, Flattened Image Size)\n",
    "    : x_tensor: A tensor of size (Batch Size, ...), where ... are the image dimensions.\n",
    "    : return: A tensor of size (Batch Size, Flattened Image Size).\n",
    "    \"\"\"\n",
    "    # TODO: Implement Function\n",
    "    size = x_tensor.shape[1]*x_tensor.shape[2]*x_tensor.shape[3]\n",
    "    return tf.reshape(x_tensor, [-1,size.value])\n",
    "\n",
    "\n",
    "\"\"\"\n",
    "DON'T MODIFY ANYTHING IN THIS CELL THAT IS BELOW THIS LINE\n",
    "\"\"\"\n",
    "tests.test_flatten(flatten)"
   ]
  },
  {
   "cell_type": "markdown",
   "metadata": {},
   "source": [
    "### Fully-Connected Layer\n",
    "Implement the `fully_conn` function to apply a fully connected layer to `x_tensor` with the shape (*Batch Size*, *num_outputs*). Shortcut option: you can use classes from the [TensorFlow Layers](https://www.tensorflow.org/api_docs/python/tf/layers) or [TensorFlow Layers (contrib)](https://www.tensorflow.org/api_guides/python/contrib.layers) packages for this layer. For more of a challenge, only use other TensorFlow packages."
   ]
  },
  {
   "cell_type": "code",
   "execution_count": 5,
   "metadata": {},
   "outputs": [
    {
     "name": "stdout",
     "output_type": "stream",
     "text": [
      "Tests Passed\n"
     ]
    }
   ],
   "source": [
    "def fully_conn(x_tensor, num_outputs):\n",
    "    \"\"\"\n",
    "    Apply a fully connected layer to x_tensor using weight and bias\n",
    "    : x_tensor: A 2-D tensor where the first dimension is batch size.\n",
    "    : num_outputs: The number of output that the new tensor should be.\n",
    "    : return: A 2-D tensor where the second dimension is num_outputs.\n",
    "    \"\"\"\n",
    "    # TODO: Implement Function\n",
    "    return tf.layers.dense(x_tensor, num_outputs, activation=tf.nn.relu)\n",
    "\n",
    "\n",
    "\"\"\"\n",
    "DON'T MODIFY ANYTHING IN THIS CELL THAT IS BELOW THIS LINE\n",
    "\"\"\"\n",
    "tests.test_fully_conn(fully_conn)"
   ]
  },
  {
   "cell_type": "markdown",
   "metadata": {},
   "source": [
    "### Output Layer\n",
    "Implement the `output` function to apply a fully connected layer to `x_tensor` with the shape (*Batch Size*, *num_outputs*). Shortcut option: you can use classes from the [TensorFlow Layers](https://www.tensorflow.org/api_docs/python/tf/layers) or [TensorFlow Layers (contrib)](https://www.tensorflow.org/api_guides/python/contrib.layers) packages for this layer. For more of a challenge, only use other TensorFlow packages.\n",
    "\n",
    "**Note:** Activation, softmax, or cross entropy should **not** be applied to this."
   ]
  },
  {
   "cell_type": "code",
   "execution_count": 6,
   "metadata": {},
   "outputs": [
    {
     "name": "stdout",
     "output_type": "stream",
     "text": [
      "Tests Passed\n"
     ]
    }
   ],
   "source": [
    "def output(x_tensor, num_outputs):\n",
    "    \"\"\"\n",
    "    Apply a output layer to x_tensor using weight and bias\n",
    "    : x_tensor: A 2-D tensor where the first dimension is batch size.\n",
    "    : num_outputs: The number of output that the new tensor should be.\n",
    "    : return: A 2-D tensor where the second dimension is num_outputs.\n",
    "    \"\"\"\n",
    "    # TODO: Implement Function\n",
    "    return tf.layers.dense(x_tensor, num_outputs)\n",
    "\n",
    "\n",
    "\"\"\"\n",
    "DON'T MODIFY ANYTHING IN THIS CELL THAT IS BELOW THIS LINE\n",
    "\"\"\"\n",
    "tests.test_output(output)"
   ]
  },
  {
   "cell_type": "markdown",
   "metadata": {},
   "source": [
    "### Create Convolutional Model\n",
    "Implement the function `conv_net` to create a convolutional neural network model. The function takes in a batch of images, `x`, and outputs logits.  Use the layers you created above to create this model:\n",
    "\n",
    "* Apply 1, 2, or 3 Convolution and Max Pool layers\n",
    "* Apply a Flatten Layer\n",
    "* Apply 1, 2, or 3 Fully Connected Layers\n",
    "* Apply an Output Layer\n",
    "* Return the output\n",
    "* Apply [TensorFlow's Dropout](https://www.tensorflow.org/api_docs/python/tf/nn/dropout) to one or more layers in the model using `keep_prob`. "
   ]
  },
  {
   "cell_type": "code",
   "execution_count": 10,
   "metadata": {},
   "outputs": [
    {
     "name": "stdout",
     "output_type": "stream",
     "text": [
      "Neural Network Built!\n"
     ]
    }
   ],
   "source": [
    "def conv_net(x, keep_prob):\n",
    "    \"\"\"\n",
    "    Create a convolutional neural network model\n",
    "    : x: Placeholder tensor that holds image data.\n",
    "    : keep_prob: Placeholder tensor that hold dropout keep probability.\n",
    "    : return: Tensor that represents logits\n",
    "    \"\"\"\n",
    "    # TODO: Apply 1, 2, or 3 Convolution and Max Pool layers\n",
    "    #    Play around with different number of outputs, kernel size and stride\n",
    "    # Function Definition from Above:\n",
    "    #    conv2d_maxpool(x_tensor, conv_num_outputs, conv_ksize, conv_strides, pool_ksize, pool_strides)\n",
    "    \n",
    "    conv_ksize = [5, 5]\n",
    "    conv_strides = [2, 2]\n",
    "    conv_num_outputs = 25\n",
    "    \n",
    "    pool_ksize = [4, 4]\n",
    "    pool_strides = [2, 2]\n",
    "    \n",
    "    num_outputs = 10\n",
    "    \n",
    "    conv2d_layer1 = conv2d_maxpool(x, conv_num_outputs, conv_ksize, conv_strides, pool_ksize, pool_strides)\n",
    "\n",
    "    conv2d_layer2 = conv2d_maxpool(conv2d_layer1, conv_num_outputs, conv_ksize, conv_strides, pool_ksize, pool_strides)\n",
    "\n",
    "    conv2d_layer3 = conv2d_maxpool(conv2d_layer2, conv_num_outputs, conv_ksize, conv_strides, pool_ksize, pool_strides)\n",
    "    \n",
    "    # TODO: Apply a Flatten Layer\n",
    "    # Function Definition from Above:\n",
    "    #   flatten(x_tensor)\n",
    "    \n",
    "    flatten_layer = flatten(conv2d_layer3)\n",
    "    flatten_layer = tf.nn.dropout(flatten_layer, keep_prob)\n",
    "    \n",
    "\n",
    "    # TODO: Apply 1, 2, or 3 Fully Connected Layers\n",
    "    #    Play around with different number of outputs\n",
    "    # Function Definition from Above:\n",
    "    #   fully_conn(x_tensor, num_outputs)\n",
    "    \n",
    "    fully_conn_layer = fully_conn(flatten_layer, num_outputs*2)\n",
    "    fully_conn_layer = tf.nn.dropout(fully_conn_layer, keep_prob)\n",
    "    \n",
    "    # TODO: Apply an Output Layer\n",
    "    #    Set this to the number of classes\n",
    "    # Function Definition from Above:\n",
    "    #   output(x_tensor, num_outputs)\n",
    "    \n",
    "    output_layer = output(fully_conn_layer, num_outputs)\n",
    "    \n",
    "    \n",
    "    # TODO: return output\n",
    "    return output_layer\n",
    "\n",
    "\n",
    "\"\"\"\n",
    "DON'T MODIFY ANYTHING IN THIS CELL THAT IS BELOW THIS LINE\n",
    "\"\"\"\n",
    "\n",
    "##############################\n",
    "## Build the Neural Network ##\n",
    "##############################\n",
    "\n",
    "# Remove previous weights, bias, inputs, etc..\n",
    "tf.reset_default_graph()\n",
    "\n",
    "# Inputs\n",
    "x = neural_net_image_input((32, 32, 3))\n",
    "y = neural_net_label_input(10)\n",
    "keep_prob = neural_net_keep_prob_input()\n",
    "\n",
    "# Model\n",
    "logits = conv_net(x, keep_prob)\n",
    "\n",
    "# Name logits Tensor, so that is can be loaded from disk after training\n",
    "logits = tf.identity(logits, name='logits')\n",
    "\n",
    "# Loss and Optimizer\n",
    "cost = tf.reduce_mean(tf.nn.softmax_cross_entropy_with_logits(logits=logits, labels=y))\n",
    "optimizer = tf.train.AdamOptimizer().minimize(cost)\n",
    "\n",
    "# Accuracy\n",
    "correct_pred = tf.equal(tf.argmax(logits, 1), tf.argmax(y, 1))\n",
    "accuracy = tf.reduce_mean(tf.cast(correct_pred, tf.float32), name='accuracy')\n",
    "\n",
    "tests.test_conv_net(conv_net)"
   ]
  },
  {
   "cell_type": "markdown",
   "metadata": {},
   "source": [
    "## Train the Neural Network\n",
    "### Single Optimization\n",
    "Implement the function `train_neural_network` to do a single optimization.  The optimization should use `optimizer` to optimize in `session` with a `feed_dict` of the following:\n",
    "* `x` for image input\n",
    "* `y` for labels\n",
    "* `keep_prob` for keep probability for dropout\n",
    "\n",
    "This function will be called for each batch, so `tf.global_variables_initializer()` has already been called.\n",
    "\n",
    "Note: Nothing needs to be returned. This function is only optimizing the neural network."
   ]
  },
  {
   "cell_type": "code",
   "execution_count": 11,
   "metadata": {},
   "outputs": [
    {
     "name": "stdout",
     "output_type": "stream",
     "text": [
      "Tests Passed\n"
     ]
    }
   ],
   "source": [
    "def train_neural_network(session, optimizer, keep_probability, feature_batch, label_batch):\n",
    "    \"\"\"\n",
    "    Optimize the session on a batch of images and labels\n",
    "    : session: Current TensorFlow session\n",
    "    : optimizer: TensorFlow optimizer function\n",
    "    : keep_probability: keep probability\n",
    "    : feature_batch: Batch of Numpy image data\n",
    "    : label_batch: Batch of Numpy label data\n",
    "    \"\"\"\n",
    "    # TODO: Implement Function\n",
    "    session.run(optimizer, feed_dict={x: feature_batch,\n",
    "                                      y: label_batch,\n",
    "                                      keep_prob: keep_probability})\n",
    "\n",
    "\n",
    "\"\"\"\n",
    "DON'T MODIFY ANYTHING IN THIS CELL THAT IS BELOW THIS LINE\n",
    "\"\"\"\n",
    "tests.test_train_nn(train_neural_network)"
   ]
  },
  {
   "cell_type": "markdown",
   "metadata": {},
   "source": [
    "### Show Stats\n",
    "Implement the function `print_stats` to print loss and validation accuracy.  Use the global variables `valid_features` and `valid_labels` to calculate validation accuracy.  Use a keep probability of `1.0` to calculate the loss and validation accuracy."
   ]
  },
  {
   "cell_type": "code",
   "execution_count": 12,
   "metadata": {
    "collapsed": true
   },
   "outputs": [],
   "source": [
    "def print_stats(session, feature_batch, label_batch, cost, accuracy):\n",
    "    \"\"\"\n",
    "    Print information about loss and validation accuracy\n",
    "    : session: Current TensorFlow session\n",
    "    : feature_batch: Batch of Numpy image data\n",
    "    : label_batch: Batch of Numpy label data\n",
    "    : cost: TensorFlow cost function\n",
    "    : accuracy: TensorFlow accuracy function\n",
    "    \"\"\"\n",
    "    # TODO: Implement Function\n",
    "    cost = sess.run(cost, feed_dict={x: feature_batch, y: label_batch, keep_prob: 1.})\n",
    "    acc = sess.run(accuracy, feed_dict={x: valid_features, y: valid_labels, keep_prob: 1.})\n",
    "    print('Loss: ', cost, ' Accuracy: ', acc)\n",
    "    "
   ]
  },
  {
   "cell_type": "markdown",
   "metadata": {},
   "source": [
    "### Hyperparameters\n",
    "Tune the following parameters:\n",
    "* Set `epochs` to the number of iterations until the network stops learning or start overfitting\n",
    "* Set `batch_size` to the highest number that your machine has memory for.  Most people set them to common sizes of memory:\n",
    " * 64\n",
    " * 128\n",
    " * 256\n",
    " * ...\n",
    "* Set `keep_probability` to the probability of keeping a node using dropout"
   ]
  },
  {
   "cell_type": "code",
   "execution_count": 15,
   "metadata": {
    "collapsed": true
   },
   "outputs": [],
   "source": [
    "# TODO: Tune Parameters\n",
    "epochs = 60\n",
    "batch_size = 512\n",
    "keep_probability = 0.75"
   ]
  },
  {
   "cell_type": "markdown",
   "metadata": {},
   "source": [
    "### Train on a Single CIFAR-10 Batch\n",
    "Instead of training the neural network on all the CIFAR-10 batches of data, let's use a single batch. This should save time while you iterate on the model to get a better accuracy.  Once the final validation accuracy is 50% or greater, run the model on all the data in the next section."
   ]
  },
  {
   "cell_type": "code",
   "execution_count": 14,
   "metadata": {},
   "outputs": [
    {
     "name": "stdout",
     "output_type": "stream",
     "text": [
      "Checking the Training on a Single Batch...\n",
      "Epoch  1, CIFAR-10 Batch 1:  Loss:  2.29211  Accuracy:  0.1166\n",
      "Epoch  2, CIFAR-10 Batch 1:  Loss:  2.28016  Accuracy:  0.1696\n",
      "Epoch  3, CIFAR-10 Batch 1:  Loss:  2.24196  Accuracy:  0.1484\n",
      "Epoch  4, CIFAR-10 Batch 1:  Loss:  2.19229  Accuracy:  0.2088\n",
      "Epoch  5, CIFAR-10 Batch 1:  Loss:  2.13082  Accuracy:  0.2314\n",
      "Epoch  6, CIFAR-10 Batch 1:  Loss:  2.06392  Accuracy:  0.2738\n",
      "Epoch  7, CIFAR-10 Batch 1:  Loss:  2.00896  Accuracy:  0.3094\n",
      "Epoch  8, CIFAR-10 Batch 1:  Loss:  1.95123  Accuracy:  0.3272\n",
      "Epoch  9, CIFAR-10 Batch 1:  Loss:  1.88713  Accuracy:  0.3442\n",
      "Epoch 10, CIFAR-10 Batch 1:  Loss:  1.84103  Accuracy:  0.3574\n",
      "Epoch 11, CIFAR-10 Batch 1:  Loss:  1.80758  Accuracy:  0.3722\n",
      "Epoch 12, CIFAR-10 Batch 1:  Loss:  1.78115  Accuracy:  0.3842\n",
      "Epoch 13, CIFAR-10 Batch 1:  Loss:  1.73535  Accuracy:  0.3862\n",
      "Epoch 14, CIFAR-10 Batch 1:  Loss:  1.70191  Accuracy:  0.398\n",
      "Epoch 15, CIFAR-10 Batch 1:  Loss:  1.6516  Accuracy:  0.409\n",
      "Epoch 16, CIFAR-10 Batch 1:  Loss:  1.62576  Accuracy:  0.419\n",
      "Epoch 17, CIFAR-10 Batch 1:  Loss:  1.60098  Accuracy:  0.4266\n",
      "Epoch 18, CIFAR-10 Batch 1:  Loss:  1.57258  Accuracy:  0.4298\n",
      "Epoch 19, CIFAR-10 Batch 1:  Loss:  1.55977  Accuracy:  0.442\n",
      "Epoch 20, CIFAR-10 Batch 1:  Loss:  1.52246  Accuracy:  0.4446\n",
      "Epoch 21, CIFAR-10 Batch 1:  Loss:  1.49547  Accuracy:  0.4498\n",
      "Epoch 22, CIFAR-10 Batch 1:  Loss:  1.47049  Accuracy:  0.4608\n",
      "Epoch 23, CIFAR-10 Batch 1:  Loss:  1.43841  Accuracy:  0.4684\n",
      "Epoch 24, CIFAR-10 Batch 1:  Loss:  1.42507  Accuracy:  0.4562\n",
      "Epoch 25, CIFAR-10 Batch 1:  Loss:  1.40521  Accuracy:  0.4764\n",
      "Epoch 26, CIFAR-10 Batch 1:  Loss:  1.37769  Accuracy:  0.4744\n",
      "Epoch 27, CIFAR-10 Batch 1:  Loss:  1.37832  Accuracy:  0.4688\n",
      "Epoch 28, CIFAR-10 Batch 1:  Loss:  1.36099  Accuracy:  0.4742\n",
      "Epoch 29, CIFAR-10 Batch 1:  Loss:  1.3399  Accuracy:  0.4934\n",
      "Epoch 30, CIFAR-10 Batch 1:  Loss:  1.32294  Accuracy:  0.4858\n",
      "Epoch 31, CIFAR-10 Batch 1:  Loss:  1.30909  Accuracy:  0.4836\n",
      "Epoch 32, CIFAR-10 Batch 1:  Loss:  1.27821  Accuracy:  0.4972\n",
      "Epoch 33, CIFAR-10 Batch 1:  Loss:  1.27747  Accuracy:  0.4888\n",
      "Epoch 34, CIFAR-10 Batch 1:  Loss:  1.25733  Accuracy:  0.493\n",
      "Epoch 35, CIFAR-10 Batch 1:  Loss:  1.25025  Accuracy:  0.4998\n",
      "Epoch 36, CIFAR-10 Batch 1:  Loss:  1.26767  Accuracy:  0.4812\n",
      "Epoch 37, CIFAR-10 Batch 1:  Loss:  1.27036  Accuracy:  0.4818\n",
      "Epoch 38, CIFAR-10 Batch 1:  Loss:  1.21965  Accuracy:  0.5056\n",
      "Epoch 39, CIFAR-10 Batch 1:  Loss:  1.20313  Accuracy:  0.514\n",
      "Epoch 40, CIFAR-10 Batch 1:  Loss:  1.20872  Accuracy:  0.5064\n",
      "Epoch 41, CIFAR-10 Batch 1:  Loss:  1.17912  Accuracy:  0.5136\n",
      "Epoch 42, CIFAR-10 Batch 1:  Loss:  1.15573  Accuracy:  0.5174\n",
      "Epoch 43, CIFAR-10 Batch 1:  Loss:  1.15183  Accuracy:  0.5114\n",
      "Epoch 44, CIFAR-10 Batch 1:  Loss:  1.13851  Accuracy:  0.5148\n",
      "Epoch 45, CIFAR-10 Batch 1:  Loss:  1.14573  Accuracy:  0.5142\n",
      "Epoch 46, CIFAR-10 Batch 1:  Loss:  1.14719  Accuracy:  0.5122\n",
      "Epoch 47, CIFAR-10 Batch 1:  Loss:  1.09636  Accuracy:  0.526\n",
      "Epoch 48, CIFAR-10 Batch 1:  Loss:  1.07276  Accuracy:  0.536\n",
      "Epoch 49, CIFAR-10 Batch 1:  Loss:  1.09274  Accuracy:  0.5232\n",
      "Epoch 50, CIFAR-10 Batch 1:  Loss:  1.07857  Accuracy:  0.5246\n",
      "Epoch 51, CIFAR-10 Batch 1:  Loss:  1.04149  Accuracy:  0.5362\n",
      "Epoch 52, CIFAR-10 Batch 1:  Loss:  1.03967  Accuracy:  0.535\n",
      "Epoch 53, CIFAR-10 Batch 1:  Loss:  1.03039  Accuracy:  0.5374\n",
      "Epoch 54, CIFAR-10 Batch 1:  Loss:  1.03534  Accuracy:  0.5362\n",
      "Epoch 55, CIFAR-10 Batch 1:  Loss:  1.01938  Accuracy:  0.5394\n",
      "Epoch 56, CIFAR-10 Batch 1:  Loss:  1.01836  Accuracy:  0.5344\n",
      "Epoch 57, CIFAR-10 Batch 1:  Loss:  1.01633  Accuracy:  0.532\n",
      "Epoch 58, CIFAR-10 Batch 1:  Loss:  0.989855  Accuracy:  0.538\n",
      "Epoch 59, CIFAR-10 Batch 1:  Loss:  0.986899  Accuracy:  0.5348\n",
      "Epoch 60, CIFAR-10 Batch 1:  Loss:  0.976196  Accuracy:  0.5384\n",
      "Epoch 61, CIFAR-10 Batch 1:  Loss:  0.970473  Accuracy:  0.5412\n",
      "Epoch 62, CIFAR-10 Batch 1:  Loss:  0.966158  Accuracy:  0.5408\n",
      "Epoch 63, CIFAR-10 Batch 1:  Loss:  0.961805  Accuracy:  0.5424\n",
      "Epoch 64, CIFAR-10 Batch 1:  Loss:  0.951934  Accuracy:  0.5474\n",
      "Epoch 65, CIFAR-10 Batch 1:  Loss:  0.97464  Accuracy:  0.5412\n",
      "Epoch 66, CIFAR-10 Batch 1:  Loss:  0.932529  Accuracy:  0.5482\n",
      "Epoch 67, CIFAR-10 Batch 1:  Loss:  0.951974  Accuracy:  0.5344\n",
      "Epoch 68, CIFAR-10 Batch 1:  Loss:  0.920917  Accuracy:  0.546\n",
      "Epoch 69, CIFAR-10 Batch 1:  Loss:  0.911902  Accuracy:  0.5456\n",
      "Epoch 70, CIFAR-10 Batch 1:  Loss:  0.902908  Accuracy:  0.5508\n",
      "Epoch 71, CIFAR-10 Batch 1:  Loss:  0.909325  Accuracy:  0.55\n",
      "Epoch 72, CIFAR-10 Batch 1:  Loss:  0.908771  Accuracy:  0.5486\n",
      "Epoch 73, CIFAR-10 Batch 1:  Loss:  0.911523  Accuracy:  0.5456\n",
      "Epoch 74, CIFAR-10 Batch 1:  Loss:  0.899975  Accuracy:  0.5422\n",
      "Epoch 75, CIFAR-10 Batch 1:  Loss:  0.878074  Accuracy:  0.5508\n",
      "Epoch 76, CIFAR-10 Batch 1:  Loss:  0.876251  Accuracy:  0.5448\n",
      "Epoch 77, CIFAR-10 Batch 1:  Loss:  0.870689  Accuracy:  0.5526\n",
      "Epoch 78, CIFAR-10 Batch 1:  Loss:  0.87975  Accuracy:  0.544\n",
      "Epoch 79, CIFAR-10 Batch 1:  Loss:  0.892388  Accuracy:  0.5384\n",
      "Epoch 80, CIFAR-10 Batch 1:  Loss:  0.863947  Accuracy:  0.5486\n"
     ]
    }
   ],
   "source": [
    "\"\"\"\n",
    "DON'T MODIFY ANYTHING IN THIS CELL\n",
    "\"\"\"\n",
    "print('Checking the Training on a Single Batch...')\n",
    "with tf.Session() as sess:\n",
    "    # Initializing the variables\n",
    "    sess.run(tf.global_variables_initializer())\n",
    "    \n",
    "    # Training cycle\n",
    "    for epoch in range(epochs):\n",
    "        batch_i = 1\n",
    "        for batch_features, batch_labels in helper.load_preprocess_training_batch(batch_i, batch_size):\n",
    "            train_neural_network(sess, optimizer, keep_probability, batch_features, batch_labels)\n",
    "        print('Epoch {:>2}, CIFAR-10 Batch {}:  '.format(epoch + 1, batch_i), end='')\n",
    "        print_stats(sess, batch_features, batch_labels, cost, accuracy)"
   ]
  },
  {
   "cell_type": "markdown",
   "metadata": {},
   "source": [
    "### Fully Train the Model\n",
    "Now that you got a good accuracy with a single CIFAR-10 batch, try it with all five batches."
   ]
  },
  {
   "cell_type": "code",
   "execution_count": 16,
   "metadata": {},
   "outputs": [
    {
     "name": "stdout",
     "output_type": "stream",
     "text": [
      "Training...\n",
      "Epoch  1, CIFAR-10 Batch 1:  Loss:  2.29107  Accuracy:  0.1424\n",
      "Epoch  1, CIFAR-10 Batch 2:  Loss:  2.24743  Accuracy:  0.1644\n",
      "Epoch  1, CIFAR-10 Batch 3:  Loss:  2.20368  Accuracy:  0.1694\n",
      "Epoch  1, CIFAR-10 Batch 4:  Loss:  2.11202  Accuracy:  0.2176\n",
      "Epoch  1, CIFAR-10 Batch 5:  Loss:  2.09703  Accuracy:  0.2436\n",
      "Epoch  2, CIFAR-10 Batch 1:  Loss:  2.03808  Accuracy:  0.2606\n",
      "Epoch  2, CIFAR-10 Batch 2:  Loss:  2.02045  Accuracy:  0.2892\n",
      "Epoch  2, CIFAR-10 Batch 3:  Loss:  1.8812  Accuracy:  0.3204\n",
      "Epoch  2, CIFAR-10 Batch 4:  Loss:  1.84407  Accuracy:  0.3238\n",
      "Epoch  2, CIFAR-10 Batch 5:  Loss:  1.8584  Accuracy:  0.3128\n",
      "Epoch  3, CIFAR-10 Batch 1:  Loss:  1.84375  Accuracy:  0.327\n",
      "Epoch  3, CIFAR-10 Batch 2:  Loss:  1.80394  Accuracy:  0.3304\n",
      "Epoch  3, CIFAR-10 Batch 3:  Loss:  1.67272  Accuracy:  0.3472\n",
      "Epoch  3, CIFAR-10 Batch 4:  Loss:  1.66989  Accuracy:  0.3598\n",
      "Epoch  3, CIFAR-10 Batch 5:  Loss:  1.69875  Accuracy:  0.3532\n",
      "Epoch  4, CIFAR-10 Batch 1:  Loss:  1.76406  Accuracy:  0.3574\n",
      "Epoch  4, CIFAR-10 Batch 2:  Loss:  1.70444  Accuracy:  0.379\n",
      "Epoch  4, CIFAR-10 Batch 3:  Loss:  1.5712  Accuracy:  0.3722\n",
      "Epoch  4, CIFAR-10 Batch 4:  Loss:  1.56773  Accuracy:  0.38\n",
      "Epoch  4, CIFAR-10 Batch 5:  Loss:  1.64869  Accuracy:  0.387\n",
      "Epoch  5, CIFAR-10 Batch 1:  Loss:  1.70711  Accuracy:  0.4006\n",
      "Epoch  5, CIFAR-10 Batch 2:  Loss:  1.63228  Accuracy:  0.4028\n",
      "Epoch  5, CIFAR-10 Batch 3:  Loss:  1.47496  Accuracy:  0.407\n",
      "Epoch  5, CIFAR-10 Batch 4:  Loss:  1.49512  Accuracy:  0.4078\n",
      "Epoch  5, CIFAR-10 Batch 5:  Loss:  1.55355  Accuracy:  0.417\n",
      "Epoch  6, CIFAR-10 Batch 1:  Loss:  1.65513  Accuracy:  0.4178\n",
      "Epoch  6, CIFAR-10 Batch 2:  Loss:  1.59201  Accuracy:  0.4206\n",
      "Epoch  6, CIFAR-10 Batch 3:  Loss:  1.38421  Accuracy:  0.4208\n",
      "Epoch  6, CIFAR-10 Batch 4:  Loss:  1.44172  Accuracy:  0.4346\n",
      "Epoch  6, CIFAR-10 Batch 5:  Loss:  1.50892  Accuracy:  0.432\n",
      "Epoch  7, CIFAR-10 Batch 1:  Loss:  1.59988  Accuracy:  0.4448\n",
      "Epoch  7, CIFAR-10 Batch 2:  Loss:  1.51868  Accuracy:  0.4398\n",
      "Epoch  7, CIFAR-10 Batch 3:  Loss:  1.30517  Accuracy:  0.4466\n",
      "Epoch  7, CIFAR-10 Batch 4:  Loss:  1.3657  Accuracy:  0.4484\n",
      "Epoch  7, CIFAR-10 Batch 5:  Loss:  1.4163  Accuracy:  0.456\n",
      "Epoch  8, CIFAR-10 Batch 1:  Loss:  1.53439  Accuracy:  0.4664\n",
      "Epoch  8, CIFAR-10 Batch 2:  Loss:  1.49466  Accuracy:  0.4526\n",
      "Epoch  8, CIFAR-10 Batch 3:  Loss:  1.23825  Accuracy:  0.4708\n",
      "Epoch  8, CIFAR-10 Batch 4:  Loss:  1.31225  Accuracy:  0.456\n",
      "Epoch  8, CIFAR-10 Batch 5:  Loss:  1.37282  Accuracy:  0.4722\n",
      "Epoch  9, CIFAR-10 Batch 1:  Loss:  1.47848  Accuracy:  0.4716\n",
      "Epoch  9, CIFAR-10 Batch 2:  Loss:  1.41169  Accuracy:  0.4728\n",
      "Epoch  9, CIFAR-10 Batch 3:  Loss:  1.18508  Accuracy:  0.4784\n",
      "Epoch  9, CIFAR-10 Batch 4:  Loss:  1.28965  Accuracy:  0.4668\n",
      "Epoch  9, CIFAR-10 Batch 5:  Loss:  1.3394  Accuracy:  0.477\n",
      "Epoch 10, CIFAR-10 Batch 1:  Loss:  1.4512  Accuracy:  0.4716\n",
      "Epoch 10, CIFAR-10 Batch 2:  Loss:  1.39904  Accuracy:  0.4724\n",
      "Epoch 10, CIFAR-10 Batch 3:  Loss:  1.17669  Accuracy:  0.472\n",
      "Epoch 10, CIFAR-10 Batch 4:  Loss:  1.24063  Accuracy:  0.4816\n",
      "Epoch 10, CIFAR-10 Batch 5:  Loss:  1.33431  Accuracy:  0.4872\n",
      "Epoch 11, CIFAR-10 Batch 1:  Loss:  1.40196  Accuracy:  0.4896\n",
      "Epoch 11, CIFAR-10 Batch 2:  Loss:  1.34886  Accuracy:  0.4894\n",
      "Epoch 11, CIFAR-10 Batch 3:  Loss:  1.14863  Accuracy:  0.484\n",
      "Epoch 11, CIFAR-10 Batch 4:  Loss:  1.20966  Accuracy:  0.4854\n",
      "Epoch 11, CIFAR-10 Batch 5:  Loss:  1.26639  Accuracy:  0.4922\n",
      "Epoch 12, CIFAR-10 Batch 1:  Loss:  1.36613  Accuracy:  0.4904\n",
      "Epoch 12, CIFAR-10 Batch 2:  Loss:  1.33939  Accuracy:  0.4898\n",
      "Epoch 12, CIFAR-10 Batch 3:  Loss:  1.13862  Accuracy:  0.4892\n",
      "Epoch 12, CIFAR-10 Batch 4:  Loss:  1.17247  Accuracy:  0.489\n",
      "Epoch 12, CIFAR-10 Batch 5:  Loss:  1.23754  Accuracy:  0.5052\n",
      "Epoch 13, CIFAR-10 Batch 1:  Loss:  1.327  Accuracy:  0.4994\n",
      "Epoch 13, CIFAR-10 Batch 2:  Loss:  1.30467  Accuracy:  0.5004\n",
      "Epoch 13, CIFAR-10 Batch 3:  Loss:  1.10251  Accuracy:  0.5058\n",
      "Epoch 13, CIFAR-10 Batch 4:  Loss:  1.15726  Accuracy:  0.4994\n",
      "Epoch 13, CIFAR-10 Batch 5:  Loss:  1.21205  Accuracy:  0.5128\n",
      "Epoch 14, CIFAR-10 Batch 1:  Loss:  1.31866  Accuracy:  0.494\n",
      "Epoch 14, CIFAR-10 Batch 2:  Loss:  1.27328  Accuracy:  0.5082\n",
      "Epoch 14, CIFAR-10 Batch 3:  Loss:  1.0828  Accuracy:  0.5034\n",
      "Epoch 14, CIFAR-10 Batch 4:  Loss:  1.13871  Accuracy:  0.5058\n",
      "Epoch 14, CIFAR-10 Batch 5:  Loss:  1.18934  Accuracy:  0.5142\n",
      "Epoch 15, CIFAR-10 Batch 1:  Loss:  1.27362  Accuracy:  0.511\n",
      "Epoch 15, CIFAR-10 Batch 2:  Loss:  1.27151  Accuracy:  0.509\n",
      "Epoch 15, CIFAR-10 Batch 3:  Loss:  1.05356  Accuracy:  0.5124\n",
      "Epoch 15, CIFAR-10 Batch 4:  Loss:  1.12999  Accuracy:  0.5058\n",
      "Epoch 15, CIFAR-10 Batch 5:  Loss:  1.14872  Accuracy:  0.5116\n",
      "Epoch 16, CIFAR-10 Batch 1:  Loss:  1.26851  Accuracy:  0.5036\n",
      "Epoch 16, CIFAR-10 Batch 2:  Loss:  1.24857  Accuracy:  0.5104\n",
      "Epoch 16, CIFAR-10 Batch 3:  Loss:  1.04403  Accuracy:  0.5194\n",
      "Epoch 16, CIFAR-10 Batch 4:  Loss:  1.11119  Accuracy:  0.5044\n",
      "Epoch 16, CIFAR-10 Batch 5:  Loss:  1.14867  Accuracy:  0.5174\n",
      "Epoch 17, CIFAR-10 Batch 1:  Loss:  1.23603  Accuracy:  0.5152\n",
      "Epoch 17, CIFAR-10 Batch 2:  Loss:  1.21344  Accuracy:  0.5218\n",
      "Epoch 17, CIFAR-10 Batch 3:  Loss:  1.05113  Accuracy:  0.5158\n",
      "Epoch 17, CIFAR-10 Batch 4:  Loss:  1.09582  Accuracy:  0.5102\n",
      "Epoch 17, CIFAR-10 Batch 5:  Loss:  1.11934  Accuracy:  0.5228\n",
      "Epoch 18, CIFAR-10 Batch 1:  Loss:  1.21528  Accuracy:  0.5182\n",
      "Epoch 18, CIFAR-10 Batch 2:  Loss:  1.21466  Accuracy:  0.515\n",
      "Epoch 18, CIFAR-10 Batch 3:  Loss:  1.03156  Accuracy:  0.519\n",
      "Epoch 18, CIFAR-10 Batch 4:  Loss:  1.06988  Accuracy:  0.5116\n",
      "Epoch 18, CIFAR-10 Batch 5:  Loss:  1.10683  Accuracy:  0.5282\n",
      "Epoch 19, CIFAR-10 Batch 1:  Loss:  1.19939  Accuracy:  0.5292\n",
      "Epoch 19, CIFAR-10 Batch 2:  Loss:  1.19594  Accuracy:  0.5246\n",
      "Epoch 19, CIFAR-10 Batch 3:  Loss:  0.997293  Accuracy:  0.5252\n",
      "Epoch 19, CIFAR-10 Batch 4:  Loss:  1.06413  Accuracy:  0.5222\n",
      "Epoch 19, CIFAR-10 Batch 5:  Loss:  1.09403  Accuracy:  0.518\n",
      "Epoch 20, CIFAR-10 Batch 1:  Loss:  1.19846  Accuracy:  0.5204\n",
      "Epoch 20, CIFAR-10 Batch 2:  Loss:  1.19435  Accuracy:  0.5218\n",
      "Epoch 20, CIFAR-10 Batch 3:  Loss:  1.0097  Accuracy:  0.5228\n",
      "Epoch 20, CIFAR-10 Batch 4:  Loss:  1.07527  Accuracy:  0.5208\n",
      "Epoch 20, CIFAR-10 Batch 5:  Loss:  1.09067  Accuracy:  0.5194\n",
      "Epoch 21, CIFAR-10 Batch 1:  Loss:  1.18912  Accuracy:  0.5264\n",
      "Epoch 21, CIFAR-10 Batch 2:  Loss:  1.1455  Accuracy:  0.5296\n",
      "Epoch 21, CIFAR-10 Batch 3:  Loss:  0.999617  Accuracy:  0.5222\n",
      "Epoch 21, CIFAR-10 Batch 4:  Loss:  1.07163  Accuracy:  0.5102\n",
      "Epoch 21, CIFAR-10 Batch 5:  Loss:  1.07539  Accuracy:  0.5336\n",
      "Epoch 22, CIFAR-10 Batch 1:  Loss:  1.15667  Accuracy:  0.5328\n",
      "Epoch 22, CIFAR-10 Batch 2:  Loss:  1.14092  Accuracy:  0.53\n",
      "Epoch 22, CIFAR-10 Batch 3:  Loss:  1.00114  Accuracy:  0.5236\n",
      "Epoch 22, CIFAR-10 Batch 4:  Loss:  1.04719  Accuracy:  0.518\n",
      "Epoch 22, CIFAR-10 Batch 5:  Loss:  1.05853  Accuracy:  0.5236\n",
      "Epoch 23, CIFAR-10 Batch 1:  Loss:  1.16239  Accuracy:  0.5276\n",
      "Epoch 23, CIFAR-10 Batch 2:  Loss:  1.152  Accuracy:  0.5234\n",
      "Epoch 23, CIFAR-10 Batch 3:  Loss:  0.993996  Accuracy:  0.5276\n",
      "Epoch 23, CIFAR-10 Batch 4:  Loss:  1.04416  Accuracy:  0.5232\n",
      "Epoch 23, CIFAR-10 Batch 5:  Loss:  1.05905  Accuracy:  0.5246\n",
      "Epoch 24, CIFAR-10 Batch 1:  Loss:  1.13691  Accuracy:  0.5334\n",
      "Epoch 24, CIFAR-10 Batch 2:  Loss:  1.10189  Accuracy:  0.5322\n",
      "Epoch 24, CIFAR-10 Batch 3:  Loss:  0.987879  Accuracy:  0.528\n",
      "Epoch 24, CIFAR-10 Batch 4:  Loss:  1.01439  Accuracy:  0.5274\n",
      "Epoch 24, CIFAR-10 Batch 5:  Loss:  1.05558  Accuracy:  0.5172\n",
      "Epoch 25, CIFAR-10 Batch 1:  Loss:  1.13853  Accuracy:  0.5364\n",
      "Epoch 25, CIFAR-10 Batch 2:  Loss:  1.12643  Accuracy:  0.5254\n",
      "Epoch 25, CIFAR-10 Batch 3:  Loss:  0.985199  Accuracy:  0.524\n",
      "Epoch 25, CIFAR-10 Batch 4:  Loss:  1.0048  Accuracy:  0.5304\n",
      "Epoch 25, CIFAR-10 Batch 5:  Loss:  1.02651  Accuracy:  0.5338\n",
      "Epoch 26, CIFAR-10 Batch 1:  Loss:  1.1214  Accuracy:  0.5362\n",
      "Epoch 26, CIFAR-10 Batch 2:  Loss:  1.09961  Accuracy:  0.5288\n",
      "Epoch 26, CIFAR-10 Batch 3:  Loss:  0.969889  Accuracy:  0.5326\n",
      "Epoch 26, CIFAR-10 Batch 4:  Loss:  1.01978  Accuracy:  0.5176\n",
      "Epoch 26, CIFAR-10 Batch 5:  Loss:  1.03244  Accuracy:  0.5304\n"
     ]
    },
    {
     "name": "stdout",
     "output_type": "stream",
     "text": [
      "Epoch 27, CIFAR-10 Batch 1:  Loss:  1.10208  Accuracy:  0.5372\n",
      "Epoch 27, CIFAR-10 Batch 2:  Loss:  1.0848  Accuracy:  0.5278\n",
      "Epoch 27, CIFAR-10 Batch 3:  Loss:  0.966696  Accuracy:  0.5332\n",
      "Epoch 27, CIFAR-10 Batch 4:  Loss:  1.01676  Accuracy:  0.5206\n",
      "Epoch 27, CIFAR-10 Batch 5:  Loss:  1.01979  Accuracy:  0.5334\n",
      "Epoch 28, CIFAR-10 Batch 1:  Loss:  1.09575  Accuracy:  0.534\n",
      "Epoch 28, CIFAR-10 Batch 2:  Loss:  1.0897  Accuracy:  0.5252\n",
      "Epoch 28, CIFAR-10 Batch 3:  Loss:  0.946696  Accuracy:  0.5398\n",
      "Epoch 28, CIFAR-10 Batch 4:  Loss:  0.995091  Accuracy:  0.523\n",
      "Epoch 28, CIFAR-10 Batch 5:  Loss:  1.00771  Accuracy:  0.5406\n",
      "Epoch 29, CIFAR-10 Batch 1:  Loss:  1.10926  Accuracy:  0.5334\n",
      "Epoch 29, CIFAR-10 Batch 2:  Loss:  1.07567  Accuracy:  0.5312\n",
      "Epoch 29, CIFAR-10 Batch 3:  Loss:  0.973837  Accuracy:  0.5294\n",
      "Epoch 29, CIFAR-10 Batch 4:  Loss:  0.973518  Accuracy:  0.535\n",
      "Epoch 29, CIFAR-10 Batch 5:  Loss:  0.99654  Accuracy:  0.5434\n",
      "Epoch 30, CIFAR-10 Batch 1:  Loss:  1.08403  Accuracy:  0.547\n",
      "Epoch 30, CIFAR-10 Batch 2:  Loss:  1.04359  Accuracy:  0.5414\n",
      "Epoch 30, CIFAR-10 Batch 3:  Loss:  0.933612  Accuracy:  0.547\n",
      "Epoch 30, CIFAR-10 Batch 4:  Loss:  0.967319  Accuracy:  0.5318\n",
      "Epoch 30, CIFAR-10 Batch 5:  Loss:  1.00933  Accuracy:  0.5416\n",
      "Epoch 31, CIFAR-10 Batch 1:  Loss:  1.08242  Accuracy:  0.5474\n",
      "Epoch 31, CIFAR-10 Batch 2:  Loss:  1.05451  Accuracy:  0.532\n",
      "Epoch 31, CIFAR-10 Batch 3:  Loss:  0.938705  Accuracy:  0.5414\n",
      "Epoch 31, CIFAR-10 Batch 4:  Loss:  0.943236  Accuracy:  0.5416\n",
      "Epoch 31, CIFAR-10 Batch 5:  Loss:  0.979531  Accuracy:  0.544\n",
      "Epoch 32, CIFAR-10 Batch 1:  Loss:  1.08567  Accuracy:  0.535\n",
      "Epoch 32, CIFAR-10 Batch 2:  Loss:  1.05075  Accuracy:  0.5388\n",
      "Epoch 32, CIFAR-10 Batch 3:  Loss:  0.970304  Accuracy:  0.5348\n",
      "Epoch 32, CIFAR-10 Batch 4:  Loss:  0.985364  Accuracy:  0.5254\n",
      "Epoch 32, CIFAR-10 Batch 5:  Loss:  0.978147  Accuracy:  0.5412\n",
      "Epoch 33, CIFAR-10 Batch 1:  Loss:  1.08259  Accuracy:  0.5374\n",
      "Epoch 33, CIFAR-10 Batch 2:  Loss:  1.08042  Accuracy:  0.5386\n",
      "Epoch 33, CIFAR-10 Batch 3:  Loss:  0.940229  Accuracy:  0.5428\n",
      "Epoch 33, CIFAR-10 Batch 4:  Loss:  0.983012  Accuracy:  0.5306\n",
      "Epoch 33, CIFAR-10 Batch 5:  Loss:  0.964678  Accuracy:  0.5454\n",
      "Epoch 34, CIFAR-10 Batch 1:  Loss:  1.04335  Accuracy:  0.5458\n",
      "Epoch 34, CIFAR-10 Batch 2:  Loss:  1.06115  Accuracy:  0.5404\n",
      "Epoch 34, CIFAR-10 Batch 3:  Loss:  0.928841  Accuracy:  0.545\n",
      "Epoch 34, CIFAR-10 Batch 4:  Loss:  0.953338  Accuracy:  0.5344\n",
      "Epoch 34, CIFAR-10 Batch 5:  Loss:  0.977118  Accuracy:  0.5466\n",
      "Epoch 35, CIFAR-10 Batch 1:  Loss:  1.04226  Accuracy:  0.5488\n",
      "Epoch 35, CIFAR-10 Batch 2:  Loss:  1.01144  Accuracy:  0.5436\n",
      "Epoch 35, CIFAR-10 Batch 3:  Loss:  0.925991  Accuracy:  0.5412\n",
      "Epoch 35, CIFAR-10 Batch 4:  Loss:  0.944678  Accuracy:  0.5368\n",
      "Epoch 35, CIFAR-10 Batch 5:  Loss:  0.957483  Accuracy:  0.5486\n",
      "Epoch 36, CIFAR-10 Batch 1:  Loss:  1.02869  Accuracy:  0.5548\n",
      "Epoch 36, CIFAR-10 Batch 2:  Loss:  1.01394  Accuracy:  0.545\n",
      "Epoch 36, CIFAR-10 Batch 3:  Loss:  0.919558  Accuracy:  0.541\n",
      "Epoch 36, CIFAR-10 Batch 4:  Loss:  0.945245  Accuracy:  0.5362\n",
      "Epoch 36, CIFAR-10 Batch 5:  Loss:  0.951069  Accuracy:  0.5444\n",
      "Epoch 37, CIFAR-10 Batch 1:  Loss:  1.0101  Accuracy:  0.5514\n",
      "Epoch 37, CIFAR-10 Batch 2:  Loss:  0.996093  Accuracy:  0.5502\n",
      "Epoch 37, CIFAR-10 Batch 3:  Loss:  0.925123  Accuracy:  0.5444\n",
      "Epoch 37, CIFAR-10 Batch 4:  Loss:  0.915423  Accuracy:  0.5374\n",
      "Epoch 37, CIFAR-10 Batch 5:  Loss:  0.944874  Accuracy:  0.5424\n",
      "Epoch 38, CIFAR-10 Batch 1:  Loss:  1.01654  Accuracy:  0.5536\n",
      "Epoch 38, CIFAR-10 Batch 2:  Loss:  0.989849  Accuracy:  0.5478\n",
      "Epoch 38, CIFAR-10 Batch 3:  Loss:  0.910002  Accuracy:  0.5518\n",
      "Epoch 38, CIFAR-10 Batch 4:  Loss:  0.905917  Accuracy:  0.5482\n",
      "Epoch 38, CIFAR-10 Batch 5:  Loss:  0.942102  Accuracy:  0.5486\n",
      "Epoch 39, CIFAR-10 Batch 1:  Loss:  0.989151  Accuracy:  0.5482\n",
      "Epoch 39, CIFAR-10 Batch 2:  Loss:  1.01331  Accuracy:  0.5414\n",
      "Epoch 39, CIFAR-10 Batch 3:  Loss:  0.903011  Accuracy:  0.5524\n",
      "Epoch 39, CIFAR-10 Batch 4:  Loss:  0.918106  Accuracy:  0.5396\n",
      "Epoch 39, CIFAR-10 Batch 5:  Loss:  0.935503  Accuracy:  0.5438\n",
      "Epoch 40, CIFAR-10 Batch 1:  Loss:  0.996361  Accuracy:  0.559\n",
      "Epoch 40, CIFAR-10 Batch 2:  Loss:  0.990683  Accuracy:  0.5476\n",
      "Epoch 40, CIFAR-10 Batch 3:  Loss:  0.888172  Accuracy:  0.5518\n",
      "Epoch 40, CIFAR-10 Batch 4:  Loss:  0.914502  Accuracy:  0.5464\n",
      "Epoch 40, CIFAR-10 Batch 5:  Loss:  0.930201  Accuracy:  0.5452\n",
      "Epoch 41, CIFAR-10 Batch 1:  Loss:  0.987101  Accuracy:  0.5524\n",
      "Epoch 41, CIFAR-10 Batch 2:  Loss:  0.973623  Accuracy:  0.5536\n",
      "Epoch 41, CIFAR-10 Batch 3:  Loss:  0.879746  Accuracy:  0.5546\n",
      "Epoch 41, CIFAR-10 Batch 4:  Loss:  0.91339  Accuracy:  0.5396\n",
      "Epoch 41, CIFAR-10 Batch 5:  Loss:  0.926132  Accuracy:  0.5478\n",
      "Epoch 42, CIFAR-10 Batch 1:  Loss:  0.985402  Accuracy:  0.5604\n",
      "Epoch 42, CIFAR-10 Batch 2:  Loss:  0.973069  Accuracy:  0.5502\n",
      "Epoch 42, CIFAR-10 Batch 3:  Loss:  0.901295  Accuracy:  0.5526\n",
      "Epoch 42, CIFAR-10 Batch 4:  Loss:  0.887966  Accuracy:  0.5448\n",
      "Epoch 42, CIFAR-10 Batch 5:  Loss:  0.914789  Accuracy:  0.5506\n",
      "Epoch 43, CIFAR-10 Batch 1:  Loss:  0.985065  Accuracy:  0.5506\n",
      "Epoch 43, CIFAR-10 Batch 2:  Loss:  0.970575  Accuracy:  0.5552\n",
      "Epoch 43, CIFAR-10 Batch 3:  Loss:  0.894265  Accuracy:  0.5498\n",
      "Epoch 43, CIFAR-10 Batch 4:  Loss:  0.899125  Accuracy:  0.5544\n",
      "Epoch 43, CIFAR-10 Batch 5:  Loss:  0.916719  Accuracy:  0.5526\n",
      "Epoch 44, CIFAR-10 Batch 1:  Loss:  0.969324  Accuracy:  0.557\n",
      "Epoch 44, CIFAR-10 Batch 2:  Loss:  0.976621  Accuracy:  0.5488\n",
      "Epoch 44, CIFAR-10 Batch 3:  Loss:  0.887334  Accuracy:  0.5458\n",
      "Epoch 44, CIFAR-10 Batch 4:  Loss:  0.88997  Accuracy:  0.557\n",
      "Epoch 44, CIFAR-10 Batch 5:  Loss:  0.917466  Accuracy:  0.5474\n",
      "Epoch 45, CIFAR-10 Batch 1:  Loss:  0.956155  Accuracy:  0.5556\n",
      "Epoch 45, CIFAR-10 Batch 2:  Loss:  0.952855  Accuracy:  0.555\n",
      "Epoch 45, CIFAR-10 Batch 3:  Loss:  0.865592  Accuracy:  0.5552\n",
      "Epoch 45, CIFAR-10 Batch 4:  Loss:  0.875956  Accuracy:  0.5534\n",
      "Epoch 45, CIFAR-10 Batch 5:  Loss:  0.922225  Accuracy:  0.5552\n",
      "Epoch 46, CIFAR-10 Batch 1:  Loss:  0.963466  Accuracy:  0.5538\n",
      "Epoch 46, CIFAR-10 Batch 2:  Loss:  0.9792  Accuracy:  0.5512\n",
      "Epoch 46, CIFAR-10 Batch 3:  Loss:  0.873688  Accuracy:  0.552\n",
      "Epoch 46, CIFAR-10 Batch 4:  Loss:  0.897739  Accuracy:  0.5432\n",
      "Epoch 46, CIFAR-10 Batch 5:  Loss:  0.894447  Accuracy:  0.5564\n",
      "Epoch 47, CIFAR-10 Batch 1:  Loss:  0.952767  Accuracy:  0.5554\n",
      "Epoch 47, CIFAR-10 Batch 2:  Loss:  0.947315  Accuracy:  0.5588\n",
      "Epoch 47, CIFAR-10 Batch 3:  Loss:  0.892841  Accuracy:  0.5514\n",
      "Epoch 47, CIFAR-10 Batch 4:  Loss:  0.86481  Accuracy:  0.5626\n",
      "Epoch 47, CIFAR-10 Batch 5:  Loss:  0.895634  Accuracy:  0.5546\n",
      "Epoch 48, CIFAR-10 Batch 1:  Loss:  0.95035  Accuracy:  0.5642\n",
      "Epoch 48, CIFAR-10 Batch 2:  Loss:  0.945315  Accuracy:  0.5668\n",
      "Epoch 48, CIFAR-10 Batch 3:  Loss:  0.873576  Accuracy:  0.5578\n",
      "Epoch 48, CIFAR-10 Batch 4:  Loss:  0.870604  Accuracy:  0.555\n",
      "Epoch 48, CIFAR-10 Batch 5:  Loss:  0.881673  Accuracy:  0.5578\n",
      "Epoch 49, CIFAR-10 Batch 1:  Loss:  0.94693  Accuracy:  0.5602\n",
      "Epoch 49, CIFAR-10 Batch 2:  Loss:  0.971237  Accuracy:  0.5576\n",
      "Epoch 49, CIFAR-10 Batch 3:  Loss:  0.877969  Accuracy:  0.556\n",
      "Epoch 49, CIFAR-10 Batch 4:  Loss:  0.872543  Accuracy:  0.5528\n",
      "Epoch 49, CIFAR-10 Batch 5:  Loss:  0.881087  Accuracy:  0.5634\n",
      "Epoch 50, CIFAR-10 Batch 1:  Loss:  0.953213  Accuracy:  0.5594\n",
      "Epoch 50, CIFAR-10 Batch 2:  Loss:  0.931873  Accuracy:  0.5632\n",
      "Epoch 50, CIFAR-10 Batch 3:  Loss:  0.868826  Accuracy:  0.5544\n",
      "Epoch 50, CIFAR-10 Batch 4:  Loss:  0.846753  Accuracy:  0.5678\n",
      "Epoch 50, CIFAR-10 Batch 5:  Loss:  0.880242  Accuracy:  0.5616\n",
      "Epoch 51, CIFAR-10 Batch 1:  Loss:  0.940667  Accuracy:  0.5638\n",
      "Epoch 51, CIFAR-10 Batch 2:  Loss:  0.970651  Accuracy:  0.5524\n",
      "Epoch 51, CIFAR-10 Batch 3:  Loss:  0.8776  Accuracy:  0.5614\n",
      "Epoch 51, CIFAR-10 Batch 4:  Loss:  0.855828  Accuracy:  0.5638\n",
      "Epoch 51, CIFAR-10 Batch 5:  Loss:  0.868106  Accuracy:  0.5666\n",
      "Epoch 52, CIFAR-10 Batch 1:  Loss:  0.909958  Accuracy:  0.5676\n",
      "Epoch 52, CIFAR-10 Batch 2:  Loss:  0.934567  Accuracy:  0.5692\n",
      "Epoch 52, CIFAR-10 Batch 3:  Loss:  0.843595  Accuracy:  0.5658\n",
      "Epoch 52, CIFAR-10 Batch 4:  Loss:  0.838519  Accuracy:  0.5656\n"
     ]
    },
    {
     "name": "stdout",
     "output_type": "stream",
     "text": [
      "Epoch 52, CIFAR-10 Batch 5:  Loss:  0.867221  Accuracy:  0.5682\n",
      "Epoch 53, CIFAR-10 Batch 1:  Loss:  0.901962  Accuracy:  0.5654\n",
      "Epoch 53, CIFAR-10 Batch 2:  Loss:  0.917189  Accuracy:  0.5632\n",
      "Epoch 53, CIFAR-10 Batch 3:  Loss:  0.87378  Accuracy:  0.558\n",
      "Epoch 53, CIFAR-10 Batch 4:  Loss:  0.842484  Accuracy:  0.569\n",
      "Epoch 53, CIFAR-10 Batch 5:  Loss:  0.858384  Accuracy:  0.5688\n",
      "Epoch 54, CIFAR-10 Batch 1:  Loss:  0.918541  Accuracy:  0.5644\n",
      "Epoch 54, CIFAR-10 Batch 2:  Loss:  0.941388  Accuracy:  0.5622\n",
      "Epoch 54, CIFAR-10 Batch 3:  Loss:  0.838174  Accuracy:  0.5666\n",
      "Epoch 54, CIFAR-10 Batch 4:  Loss:  0.835333  Accuracy:  0.5722\n",
      "Epoch 54, CIFAR-10 Batch 5:  Loss:  0.863262  Accuracy:  0.5696\n",
      "Epoch 55, CIFAR-10 Batch 1:  Loss:  0.890737  Accuracy:  0.5742\n",
      "Epoch 55, CIFAR-10 Batch 2:  Loss:  0.913199  Accuracy:  0.5672\n",
      "Epoch 55, CIFAR-10 Batch 3:  Loss:  0.831825  Accuracy:  0.5638\n",
      "Epoch 55, CIFAR-10 Batch 4:  Loss:  0.836334  Accuracy:  0.5712\n",
      "Epoch 55, CIFAR-10 Batch 5:  Loss:  0.843505  Accuracy:  0.5674\n",
      "Epoch 56, CIFAR-10 Batch 1:  Loss:  0.89477  Accuracy:  0.5686\n",
      "Epoch 56, CIFAR-10 Batch 2:  Loss:  0.9688  Accuracy:  0.5522\n",
      "Epoch 56, CIFAR-10 Batch 3:  Loss:  0.860304  Accuracy:  0.5654\n",
      "Epoch 56, CIFAR-10 Batch 4:  Loss:  0.866465  Accuracy:  0.5584\n",
      "Epoch 56, CIFAR-10 Batch 5:  Loss:  0.856067  Accuracy:  0.5666\n",
      "Epoch 57, CIFAR-10 Batch 1:  Loss:  0.877159  Accuracy:  0.5736\n",
      "Epoch 57, CIFAR-10 Batch 2:  Loss:  0.908121  Accuracy:  0.561\n",
      "Epoch 57, CIFAR-10 Batch 3:  Loss:  0.849696  Accuracy:  0.5642\n",
      "Epoch 57, CIFAR-10 Batch 4:  Loss:  0.849562  Accuracy:  0.559\n",
      "Epoch 57, CIFAR-10 Batch 5:  Loss:  0.852228  Accuracy:  0.5692\n",
      "Epoch 58, CIFAR-10 Batch 1:  Loss:  0.876663  Accuracy:  0.5702\n",
      "Epoch 58, CIFAR-10 Batch 2:  Loss:  0.914008  Accuracy:  0.5668\n",
      "Epoch 58, CIFAR-10 Batch 3:  Loss:  0.83209  Accuracy:  0.5698\n",
      "Epoch 58, CIFAR-10 Batch 4:  Loss:  0.840996  Accuracy:  0.57\n",
      "Epoch 58, CIFAR-10 Batch 5:  Loss:  0.840232  Accuracy:  0.5704\n",
      "Epoch 59, CIFAR-10 Batch 1:  Loss:  0.880052  Accuracy:  0.5716\n",
      "Epoch 59, CIFAR-10 Batch 2:  Loss:  0.91025  Accuracy:  0.5686\n",
      "Epoch 59, CIFAR-10 Batch 3:  Loss:  0.833937  Accuracy:  0.5778\n",
      "Epoch 59, CIFAR-10 Batch 4:  Loss:  0.840086  Accuracy:  0.565\n",
      "Epoch 59, CIFAR-10 Batch 5:  Loss:  0.836491  Accuracy:  0.5714\n",
      "Epoch 60, CIFAR-10 Batch 1:  Loss:  0.895397  Accuracy:  0.569\n",
      "Epoch 60, CIFAR-10 Batch 2:  Loss:  0.92017  Accuracy:  0.5604\n",
      "Epoch 60, CIFAR-10 Batch 3:  Loss:  0.839313  Accuracy:  0.5688\n",
      "Epoch 60, CIFAR-10 Batch 4:  Loss:  0.813642  Accuracy:  0.575\n",
      "Epoch 60, CIFAR-10 Batch 5:  Loss:  0.841027  Accuracy:  0.5716\n"
     ]
    }
   ],
   "source": [
    "\"\"\"\n",
    "DON'T MODIFY ANYTHING IN THIS CELL\n",
    "\"\"\"\n",
    "save_model_path = './image_classification'\n",
    "\n",
    "print('Training...')\n",
    "with tf.Session() as sess:\n",
    "    # Initializing the variables\n",
    "    sess.run(tf.global_variables_initializer())\n",
    "    \n",
    "    # Training cycle\n",
    "    for epoch in range(epochs):\n",
    "        # Loop over all batches\n",
    "        n_batches = 5\n",
    "        for batch_i in range(1, n_batches + 1):\n",
    "            for batch_features, batch_labels in helper.load_preprocess_training_batch(batch_i, batch_size):\n",
    "                train_neural_network(sess, optimizer, keep_probability, batch_features, batch_labels)\n",
    "            print('Epoch {:>2}, CIFAR-10 Batch {}:  '.format(epoch + 1, batch_i), end='')\n",
    "            print_stats(sess, batch_features, batch_labels, cost, accuracy)\n",
    "            \n",
    "    # Save Model\n",
    "    saver = tf.train.Saver()\n",
    "    save_path = saver.save(sess, save_model_path)"
   ]
  },
  {
   "cell_type": "markdown",
   "metadata": {},
   "source": [
    "# Checkpoint\n",
    "The model has been saved to disk.\n",
    "## Test Model\n",
    "Test your model against the test dataset.  This will be your final accuracy. You should have an accuracy greater than 50%. If you don't, keep tweaking the model architecture and parameters."
   ]
  },
  {
   "cell_type": "code",
   "execution_count": 17,
   "metadata": {},
   "outputs": [
    {
     "name": "stdout",
     "output_type": "stream",
     "text": [
      "INFO:tensorflow:Restoring parameters from ./image_classification\n",
      "Testing Accuracy: 0.5839441627264023\n",
      "\n"
     ]
    },
    {
     "data": {
      "image/png": "[encoded data removed]",
      "text/plain": [
       "<matplotlib.figure.Figure at 0x12781b588>"
      ]
     },
     "metadata": {
      "image/png": {
       "height": 319,
       "width": 355
      }
     },
     "output_type": "display_data"
    }
   ],
   "source": [
    "\"\"\"\n",
    "DON'T MODIFY ANYTHING IN THIS CELL\n",
    "\"\"\"\n",
    "%matplotlib inline\n",
    "%config InlineBackend.figure_format = 'retina'\n",
    "\n",
    "import tensorflow as tf\n",
    "import pickle\n",
    "import helper\n",
    "import random\n",
    "\n",
    "# Set batch size if not already set\n",
    "try:\n",
    "    if batch_size:\n",
    "        pass\n",
    "except NameError:\n",
    "    batch_size = 64\n",
    "\n",
    "save_model_path = './image_classification'\n",
    "n_samples = 4\n",
    "top_n_predictions = 3\n",
    "\n",
    "def test_model():\n",
    "    \"\"\"\n",
    "    Test the saved model against the test dataset\n",
    "    \"\"\"\n",
    "\n",
    "    test_features, test_labels = pickle.load(open('preprocess_test.p', mode='rb'))\n",
    "    loaded_graph = tf.Graph()\n",
    "\n",
    "    with tf.Session(graph=loaded_graph) as sess:\n",
    "        # Load model\n",
    "        loader = tf.train.import_meta_graph(save_model_path + '.meta')\n",
    "        loader.restore(sess, save_model_path)\n",
    "\n",
    "        # Get Tensors from loaded model\n",
    "        loaded_x = loaded_graph.get_tensor_by_name('x:0')\n",
    "        loaded_y = loaded_graph.get_tensor_by_name('y:0')\n",
    "        loaded_keep_prob = loaded_graph.get_tensor_by_name('keep_prob:0')\n",
    "        loaded_logits = loaded_graph.get_tensor_by_name('logits:0')\n",
    "        loaded_acc = loaded_graph.get_tensor_by_name('accuracy:0')\n",
    "        \n",
    "        # Get accuracy in batches for memory limitations\n",
    "        test_batch_acc_total = 0\n",
    "        test_batch_count = 0\n",
    "        \n",
    "        for test_feature_batch, test_label_batch in helper.batch_features_labels(test_features, test_labels, batch_size):\n",
    "            test_batch_acc_total += sess.run(\n",
    "                loaded_acc,\n",
    "                feed_dict={loaded_x: test_feature_batch, loaded_y: test_label_batch, loaded_keep_prob: 1.0})\n",
    "            test_batch_count += 1\n",
    "\n",
    "        print('Testing Accuracy: {}\\n'.format(test_batch_acc_total/test_batch_count))\n",
    "\n",
    "        # Print Random Samples\n",
    "        random_test_features, random_test_labels = tuple(zip(*random.sample(list(zip(test_features, test_labels)), n_samples)))\n",
    "        random_test_predictions = sess.run(\n",
    "            tf.nn.top_k(tf.nn.softmax(loaded_logits), top_n_predictions),\n",
    "            feed_dict={loaded_x: random_test_features, loaded_y: random_test_labels, loaded_keep_prob: 1.0})\n",
    "        helper.display_image_predictions(random_test_features, random_test_labels, random_test_predictions)\n",
    "\n",
    "\n",
    "test_model()"
   ]
  },
  {
   "cell_type": "markdown",
   "metadata": {},
   "source": [
    "## Why 50-80% Accuracy?\n",
    "You might be wondering why you can't get an accuracy any higher. First things first, 50% isn't bad for a simple CNN.  Pure guessing would get you 10% accuracy. However, you might notice people are getting scores [well above 80%](http://rodrigob.github.io/are_we_there_yet/build/classification_datasets_results.html#43494641522d3130).  That's because we haven't taught you all there is to know about neural networks. We still need to cover a few more techniques.\n",
    "## Submitting This Project\n",
    "When submitting this project, make sure to run all the cells before saving the notebook.  Save the notebook file as \"dlnd_image_classification.ipynb\" and save it as a HTML file under \"File\" -> \"Download as\".  Include the \"helper.py\" and \"problem_unittests.py\" files in your submission."
   ]
  }
 ],
 "metadata": {
  "kernelspec": {
   "display_name": "Python 3",
   "language": "python",
   "name": "python3"
  },
  "language_info": {
   "codemirror_mode": {
    "name": "ipython",
    "version": 3
   },
   "file_extension": ".py",
   "mimetype": "text/x-python",
   "name": "python",
   "nbconvert_exporter": "python",
   "pygments_lexer": "ipython3",
   "version": "3.6.2"
  }
 },
 "nbformat": 4,
 "nbformat_minor": 1
}
